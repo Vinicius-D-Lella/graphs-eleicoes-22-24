{
 "cells": [
  {
   "cell_type": "code",
   "execution_count": 108,
   "id": "dad8a439",
   "metadata": {},
   "outputs": [],
   "source": [
    "import pandas as pd\n",
    "\n",
    "estado = \"RR\"\n",
    "df = pd.read_csv(f\"temporario/votacao_candidato_munzona_2024_{estado}.csv\", encoding=\"latin1\", sep=\";\")\n",
    "# Deleta colunas indesejadas\n",
    "df = df.drop(columns=[\"DT_GERACAO\",\"HH_GERACAO\",\"ANO_ELEICAO\",\"CD_TIPO_ELEICAO\",\"NM_TIPO_ELEICAO\",\"NR_TURNO\",\"CD_ELEICAO\",\"DS_ELEICAO\",\"DT_ELEICAO\",\"TP_ABRANGENCIA\",\"SG_UF\",\"SG_UE\",\"NM_UE\",\"CD_MUNICIPIO\",\"NR_ZONA\",\"CD_CARGO\",\"SQ_CANDIDATO\",\"NM_CANDIDATO\",\"NM_SOCIAL_CANDIDATO\",\"CD_SITUACAO_CANDIDATURA\",\"DS_SITUACAO_CANDIDATURA\",\"CD_DETALHE_SITUACAO_CAND\",\"DS_DETALHE_SITUACAO_CAND\",\"CD_SITUACAO_JULGAMENTO\",\"DS_SITUACAO_JULGAMENTO\",\"CD_SITUACAO_CASSACAO\",\"DS_SITUACAO_CASSACAO\",\"CD_SITUACAO_DCONST_DIPLOMA\",\"DS_SITUACAO_DCONST_DIPLOMA\",\"TP_AGREMIACAO\",\"NM_PARTIDO\",\"NR_FEDERACAO\",\"NM_FEDERACAO\",\"SG_FEDERACAO\",\"DS_COMPOSICAO_FEDERACAO\",\"SQ_COLIGACAO\",\"NM_COLIGACAO\",\"DS_COMPOSICAO_COLIGACAO\",\"ST_VOTO_EM_TRANSITO\",\"NM_TIPO_DESTINACAO_VOTOS\",\"QT_VOTOS_NOMINAIS_VALIDOS\",\"CD_SIT_TOT_TURNO\",\"DS_SIT_TOT_TURNO\"])\n",
    "\n",
    "# Salva de volta\n",
    "df.to_csv(f\"./intermediario_{estado}_2024.csv\", index=False)"
   ]
  },
  {
   "cell_type": "code",
   "execution_count": 109,
   "id": "f75a1243",
   "metadata": {},
   "outputs": [],
   "source": [
    "\n",
    "df = pd.read_csv(f\"./intermediario_{estado}_2024.csv\", encoding=\"latin1\", sep=\",\")\n",
    "\n",
    "df_filtrado = df[df['DS_CARGO'] == 'Vereador']\n",
    "df_final = df_filtrado[df_filtrado['NM_MUNICIPIO'] == 'BOA VISTA']\n",
    "df_somado = df_final.groupby([\"NM_MUNICIPIO\",\"DS_CARGO\",\"NR_CANDIDATO\",\"NM_URNA_CANDIDATO\",\"NR_PARTIDO\",\"SG_PARTIDO\"]).sum({\"QT_VOTOS_NOMINAIS\": \"sum\"}).reset_index()\n",
    "df_somado.to_csv(f\"./{estado}_2024.csv\", index=False)"
   ]
  }
 ],
 "metadata": {
  "kernelspec": {
   "display_name": "venv",
   "language": "python",
   "name": "python3"
  },
  "language_info": {
   "codemirror_mode": {
    "name": "ipython",
    "version": 3
   },
   "file_extension": ".py",
   "mimetype": "text/x-python",
   "name": "python",
   "nbconvert_exporter": "python",
   "pygments_lexer": "ipython3",
   "version": "3.13.7"
  }
 },
 "nbformat": 4,
 "nbformat_minor": 5
}
